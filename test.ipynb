{
 "cells": [
  {
   "cell_type": "code",
   "execution_count": 2,
   "id": "bce14fbb",
   "metadata": {},
   "outputs": [],
   "source": [
    "from llama import LayerNorm"
   ]
  },
  {
   "cell_type": "code",
   "execution_count": 3,
   "id": "b70952fa",
   "metadata": {},
   "outputs": [
    {
     "data": {
      "text/plain": [
       "LayerNorm((10,), eps=1e-05, elementwise_affine=True)"
      ]
     },
     "execution_count": 3,
     "metadata": {},
     "output_type": "execute_result"
    }
   ],
   "source": [
    "import torch\n",
    "torch.nn.LayerNorm(normalized_shape=10)"
   ]
  }
 ],
 "metadata": {
  "kernelspec": {
   "display_name": "3.10.0",
   "language": "python",
   "name": "python3"
  },
  "language_info": {
   "codemirror_mode": {
    "name": "ipython",
    "version": 3
   },
   "file_extension": ".py",
   "mimetype": "text/x-python",
   "name": "python",
   "nbconvert_exporter": "python",
   "pygments_lexer": "ipython3",
   "version": "3.10.0"
  }
 },
 "nbformat": 4,
 "nbformat_minor": 5
}
